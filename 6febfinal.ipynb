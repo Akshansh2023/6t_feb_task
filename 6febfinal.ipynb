{
 "cells": [
  {
   "cell_type": "code",
   "execution_count": null,
   "id": "b13040b7-50d5-42a8-b374-00ee1d82a300",
   "metadata": {},
   "outputs": [],
   "source": []
  },
  {
   "cell_type": "code",
   "execution_count": null,
   "id": "c9deafe4-9cd9-4585-a02d-973bd89320c7",
   "metadata": {},
   "outputs": [],
   "source": []
  },
  {
   "cell_type": "code",
   "execution_count": null,
   "id": "5da3f087-9443-4a09-b0b2-725e9bc61c12",
   "metadata": {},
   "outputs": [],
   "source": [
    "#question 1.\n",
    "Create a function which will take a list as an argument and return the product of all the numbers after creating a flat list.\n",
    "Use the below-given list as an argument for your function.\n",
    "list1 = [1,2,3,4, [44,55,66, True], False, (34,56,78,89,34), {1,2,3,3,2,1},{1:34, \"key2\": [55, 67, 78, 89], 4: (45, 22, 61, 34)}, [56, 'data science'], 'Machine Learning']\n",
    "Note: you must extract numeric keys and values of the dictionary also."
   ]
  },
  {
   "cell_type": "code",
   "execution_count": 2,
   "id": "222901d1-8da4-472d-940f-a8c7b0863252",
   "metadata": {},
   "outputs": [
    {
     "name": "stdout",
     "output_type": "stream",
     "text": [
      "([1, 2, 3, 4, 44, 55, 66, 34, 56, 78, 89, 34, 1, 2, 3, 1, 34, 55, 67, 78, 89, 4, 45, 22, 61, 34, 56], 4134711838987085478833841242112000)\n"
     ]
    }
   ],
   "source": [
    "#Answer\n",
    "\n",
    "list1 = [1,2,3,4,[44,55,66,True],False,(34,56,78,89,34),{1,2,3,3,2,1},{1:34, \"key2\":[55,67,78,89],4:(45,22,61,34)},[56,'data science'],'machine learning']\n",
    "\n",
    "def flat_list(list1):\n",
    "    flate = []\n",
    "    for i in list1:\n",
    "        if type(i) == int  or type(i) == float:\n",
    "            flate.append(i)\n",
    "        elif type(i) == list or type(i) == set or type(i) == tuple:\n",
    "            for j in i:\n",
    "                if type(j) == int or type(j) == float:\n",
    "                    flate.append(j)\n",
    "        elif type(i) == dict:\n",
    "            for k in i.items():\n",
    "                if type(k[0]) == int  or type(k[0]) == float:\n",
    "                    flate.append(k[0])\n",
    "                if type(k[1]) == int  or type(k[1]) == float:\n",
    "                    flate.append(k[1])\n",
    "                else:\n",
    "                    for l in k[1]:\n",
    "                        flate.append(l)\n",
    "    product=1\n",
    "    for i in flate:\n",
    "        product=product*i\n",
    "    return flate,product\n",
    "\n",
    "a = flat_list(list1)\n",
    "print(a)"
   ]
  },
  {
   "cell_type": "code",
   "execution_count": null,
   "id": "1b629fab-57eb-4342-9618-307edd13484c",
   "metadata": {},
   "outputs": [],
   "source": [
    "#question 2.\n",
    "Q2. Write a python program for encrypting a message sent to you by your friend. The logic of encryption\n",
    "should be such that, for a the output should be z. For b, the output should be y. For c, the output should\n",
    "be x respectively. Also, the whitespace should be replaced with a dollar sign. Keep the punctuation\n",
    "marks unchanged.\n",
    "Input Sentence: I want to become a Data Scientist.\n",
    "Encrypt the above input sentence using the program you just created.\n",
    "Note: Convert the given input sentence into lowercase before encrypting. The final output should be\n",
    "lowercase."
   ]
  },
  {
   "cell_type": "code",
   "execution_count": null,
   "id": "20748d94-fe96-4807-85ae-7d800e5d1e31",
   "metadata": {},
   "outputs": [],
   "source": [
    "#answer\n"
   ]
  }
 ],
 "metadata": {
  "kernelspec": {
   "display_name": "Python 3 (ipykernel)",
   "language": "python",
   "name": "python3"
  },
  "language_info": {
   "codemirror_mode": {
    "name": "ipython",
    "version": 3
   },
   "file_extension": ".py",
   "mimetype": "text/x-python",
   "name": "python",
   "nbconvert_exporter": "python",
   "pygments_lexer": "ipython3",
   "version": "3.10.8"
  }
 },
 "nbformat": 4,
 "nbformat_minor": 5
}
